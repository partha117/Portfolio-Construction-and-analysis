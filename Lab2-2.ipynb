{
 "cells": [
  {
   "cell_type": "markdown",
   "metadata": {},
   "source": [
    "# Efficient Frontier Part 2"
   ]
  },
  {
   "cell_type": "code",
   "execution_count": 1,
   "metadata": {},
   "outputs": [],
   "source": [
    "import edhec_risk_kit as erk\n",
    "import numpy as np\n",
    "import pandas as pd"
   ]
  },
  {
   "cell_type": "code",
   "execution_count": 2,
   "metadata": {},
   "outputs": [],
   "source": [
    "ind = erk.get_ind_return()\n",
    "er = erk.annualize_return(ind[\"1996\":\"2000\"],12)\n",
    "cov = ind[\"1996\":\"2000\"].cov()"
   ]
  },
  {
   "cell_type": "code",
   "execution_count": 3,
   "metadata": {},
   "outputs": [],
   "source": [
    "def portfolio_return(weights, returns):\n",
    "    \"\"\"\n",
    "    weights -> returns\n",
    "    \"\"\"\n",
    "    return weights.T @ returns\n",
    "\n",
    "def portfolio_vol(weights, covmat):\n",
    "    \"\"\"\n",
    "    weights -> vol\n",
    "    \"\"\"\n",
    "    return (weights.T @ covmat @ weights)**0.5"
   ]
  },
  {
   "cell_type": "code",
   "execution_count": 6,
   "metadata": {},
   "outputs": [
    {
     "data": {
      "text/plain": [
       "Food     0.116799\n",
       "Beer     0.141126\n",
       "Smoke    0.107830\n",
       "Coal     0.414689\n",
       "dtype: float64"
      ]
     },
     "execution_count": 6,
     "metadata": {},
     "output_type": "execute_result"
    }
   ],
   "source": [
    "l = [\"Food\",\"Beer\",\"Smoke\",\"Coal\"]\n",
    "er[l]"
   ]
  },
  {
   "cell_type": "code",
   "execution_count": 10,
   "metadata": {},
   "outputs": [
    {
     "data": {
      "text/html": [
       "<div>\n",
       "<style scoped>\n",
       "    .dataframe tbody tr th:only-of-type {\n",
       "        vertical-align: middle;\n",
       "    }\n",
       "\n",
       "    .dataframe tbody tr th {\n",
       "        vertical-align: top;\n",
       "    }\n",
       "\n",
       "    .dataframe thead th {\n",
       "        text-align: right;\n",
       "    }\n",
       "</style>\n",
       "<table border=\"1\" class=\"dataframe\">\n",
       "  <thead>\n",
       "    <tr style=\"text-align: right;\">\n",
       "      <th></th>\n",
       "      <th>Food</th>\n",
       "      <th>Beer</th>\n",
       "      <th>Smoke</th>\n",
       "      <th>Coal</th>\n",
       "    </tr>\n",
       "  </thead>\n",
       "  <tbody>\n",
       "    <tr>\n",
       "      <th>Food</th>\n",
       "      <td>0.002609</td>\n",
       "      <td>0.002379</td>\n",
       "      <td>0.002061</td>\n",
       "      <td>0.000027</td>\n",
       "    </tr>\n",
       "    <tr>\n",
       "      <th>Beer</th>\n",
       "      <td>0.002379</td>\n",
       "      <td>0.005264</td>\n",
       "      <td>0.001359</td>\n",
       "      <td>0.001728</td>\n",
       "    </tr>\n",
       "    <tr>\n",
       "      <th>Smoke</th>\n",
       "      <td>0.002061</td>\n",
       "      <td>0.001359</td>\n",
       "      <td>0.008349</td>\n",
       "      <td>-0.000733</td>\n",
       "    </tr>\n",
       "    <tr>\n",
       "      <th>Coal</th>\n",
       "      <td>0.000027</td>\n",
       "      <td>0.001728</td>\n",
       "      <td>-0.000733</td>\n",
       "      <td>0.018641</td>\n",
       "    </tr>\n",
       "  </tbody>\n",
       "</table>\n",
       "</div>"
      ],
      "text/plain": [
       "           Food      Beer     Smoke      Coal\n",
       "Food   0.002609  0.002379  0.002061  0.000027\n",
       "Beer   0.002379  0.005264  0.001359  0.001728\n",
       "Smoke  0.002061  0.001359  0.008349 -0.000733\n",
       "Coal   0.000027  0.001728 -0.000733  0.018641"
      ]
     },
     "execution_count": 10,
     "metadata": {},
     "output_type": "execute_result"
    }
   ],
   "source": [
    "cov.loc[l,l]"
   ]
  },
  {
   "cell_type": "code",
   "execution_count": 8,
   "metadata": {},
   "outputs": [
    {
     "data": {
      "text/plain": [
       "0.19511097196038385"
      ]
     },
     "execution_count": 8,
     "metadata": {},
     "output_type": "execute_result"
    }
   ],
   "source": [
    "weights = np.repeat(1/4,4)\n",
    "erk.portfolio_return(weights,er[l])"
   ]
  },
  {
   "cell_type": "code",
   "execution_count": 11,
   "metadata": {},
   "outputs": [
    {
     "data": {
      "text/plain": [
       "0.055059195776437045"
      ]
     },
     "execution_count": 11,
     "metadata": {},
     "output_type": "execute_result"
    }
   ],
   "source": [
    "erk.portfolio_vol(weights,cov.loc[l,l])"
   ]
  },
  {
   "cell_type": "markdown",
   "metadata": {},
   "source": [
    "# 2 Asset Frontier"
   ]
  },
  {
   "cell_type": "code",
   "execution_count": 4,
   "metadata": {},
   "outputs": [],
   "source": [
    "l = [\"Games\",\"Fin\"]"
   ]
  },
  {
   "cell_type": "code",
   "execution_count": 16,
   "metadata": {},
   "outputs": [
    {
     "data": {
      "text/plain": [
       "[array([0., 1.]),\n",
       " array([0.01010101, 0.98989899]),\n",
       " array([0.02020202, 0.97979798]),\n",
       " array([0.03030303, 0.96969697]),\n",
       " array([0.04040404, 0.95959596]),\n",
       " array([0.05050505, 0.94949495]),\n",
       " array([0.06060606, 0.93939394]),\n",
       " array([0.07070707, 0.92929293]),\n",
       " array([0.08080808, 0.91919192]),\n",
       " array([0.09090909, 0.90909091]),\n",
       " array([0.1010101, 0.8989899]),\n",
       " array([0.11111111, 0.88888889]),\n",
       " array([0.12121212, 0.87878788]),\n",
       " array([0.13131313, 0.86868687]),\n",
       " array([0.14141414, 0.85858586]),\n",
       " array([0.15151515, 0.84848485]),\n",
       " array([0.16161616, 0.83838384]),\n",
       " array([0.17171717, 0.82828283]),\n",
       " array([0.18181818, 0.81818182]),\n",
       " array([0.19191919, 0.80808081]),\n",
       " array([0.2020202, 0.7979798]),\n",
       " array([0.21212121, 0.78787879]),\n",
       " array([0.22222222, 0.77777778]),\n",
       " array([0.23232323, 0.76767677]),\n",
       " array([0.24242424, 0.75757576]),\n",
       " array([0.25252525, 0.74747475]),\n",
       " array([0.26262626, 0.73737374]),\n",
       " array([0.27272727, 0.72727273]),\n",
       " array([0.28282828, 0.71717172]),\n",
       " array([0.29292929, 0.70707071]),\n",
       " array([0.3030303, 0.6969697]),\n",
       " array([0.31313131, 0.68686869]),\n",
       " array([0.32323232, 0.67676768]),\n",
       " array([0.33333333, 0.66666667]),\n",
       " array([0.34343434, 0.65656566]),\n",
       " array([0.35353535, 0.64646465]),\n",
       " array([0.36363636, 0.63636364]),\n",
       " array([0.37373737, 0.62626263]),\n",
       " array([0.38383838, 0.61616162]),\n",
       " array([0.39393939, 0.60606061]),\n",
       " array([0.4040404, 0.5959596]),\n",
       " array([0.41414141, 0.58585859]),\n",
       " array([0.42424242, 0.57575758]),\n",
       " array([0.43434343, 0.56565657]),\n",
       " array([0.44444444, 0.55555556]),\n",
       " array([0.45454545, 0.54545455]),\n",
       " array([0.46464646, 0.53535354]),\n",
       " array([0.47474747, 0.52525253]),\n",
       " array([0.48484848, 0.51515152]),\n",
       " array([0.49494949, 0.50505051]),\n",
       " array([0.50505051, 0.49494949]),\n",
       " array([0.51515152, 0.48484848]),\n",
       " array([0.52525253, 0.47474747]),\n",
       " array([0.53535354, 0.46464646]),\n",
       " array([0.54545455, 0.45454545]),\n",
       " array([0.55555556, 0.44444444]),\n",
       " array([0.56565657, 0.43434343]),\n",
       " array([0.57575758, 0.42424242]),\n",
       " array([0.58585859, 0.41414141]),\n",
       " array([0.5959596, 0.4040404]),\n",
       " array([0.60606061, 0.39393939]),\n",
       " array([0.61616162, 0.38383838]),\n",
       " array([0.62626263, 0.37373737]),\n",
       " array([0.63636364, 0.36363636]),\n",
       " array([0.64646465, 0.35353535]),\n",
       " array([0.65656566, 0.34343434]),\n",
       " array([0.66666667, 0.33333333]),\n",
       " array([0.67676768, 0.32323232]),\n",
       " array([0.68686869, 0.31313131]),\n",
       " array([0.6969697, 0.3030303]),\n",
       " array([0.70707071, 0.29292929]),\n",
       " array([0.71717172, 0.28282828]),\n",
       " array([0.72727273, 0.27272727]),\n",
       " array([0.73737374, 0.26262626]),\n",
       " array([0.74747475, 0.25252525]),\n",
       " array([0.75757576, 0.24242424]),\n",
       " array([0.76767677, 0.23232323]),\n",
       " array([0.77777778, 0.22222222]),\n",
       " array([0.78787879, 0.21212121]),\n",
       " array([0.7979798, 0.2020202]),\n",
       " array([0.80808081, 0.19191919]),\n",
       " array([0.81818182, 0.18181818]),\n",
       " array([0.82828283, 0.17171717]),\n",
       " array([0.83838384, 0.16161616]),\n",
       " array([0.84848485, 0.15151515]),\n",
       " array([0.85858586, 0.14141414]),\n",
       " array([0.86868687, 0.13131313]),\n",
       " array([0.87878788, 0.12121212]),\n",
       " array([0.88888889, 0.11111111]),\n",
       " array([0.8989899, 0.1010101]),\n",
       " array([0.90909091, 0.09090909]),\n",
       " array([0.91919192, 0.08080808]),\n",
       " array([0.92929293, 0.07070707]),\n",
       " array([0.93939394, 0.06060606]),\n",
       " array([0.94949495, 0.05050505]),\n",
       " array([0.95959596, 0.04040404]),\n",
       " array([0.96969697, 0.03030303]),\n",
       " array([0.97979798, 0.02020202]),\n",
       " array([0.98989899, 0.01010101]),\n",
       " array([1., 0.])]"
      ]
     },
     "execution_count": 16,
     "metadata": {},
     "output_type": "execute_result"
    }
   ],
   "source": [
    "n_points = 100\n",
    "weights = [np.array([w,1-w]) for w in np.linspace(0,1,n_points)]\n",
    "weights"
   ]
  },
  {
   "cell_type": "code",
   "execution_count": 17,
   "metadata": {},
   "outputs": [
    {
     "data": {
      "text/plain": [
       "<matplotlib.axes._subplots.AxesSubplot at 0x7f8c970df6d0>"
      ]
     },
     "execution_count": 17,
     "metadata": {},
     "output_type": "execute_result"
    },
    {
     "data": {
      "image/png": "[encoded data removed]",
      "text/plain": [
       "<Figure size 432x288 with 1 Axes>"
      ]
     },
     "metadata": {
      "needs_background": "light"
     },
     "output_type": "display_data"
    }
   ],
   "source": [
    "rets = [erk.portfolio_return(w,er[l]) for w in weights]\n",
    "vols = [erk.portfolio_vol(w,cov.loc[l,l]) for w in weights]\n",
    "ef = pd.DataFrame({\"R\":rets,\"Vol\":vols})\n",
    "ef.plot.scatter(x=\"Vol\",y=\"R\")"
   ]
  },
  {
   "cell_type": "code",
   "execution_count": 4,
   "metadata": {},
   "outputs": [
    {
     "data": {
      "text/plain": [
       "<matplotlib.axes._subplots.AxesSubplot at 0x7ff467ac4f70>"
      ]
     },
     "execution_count": 4,
     "metadata": {},
     "output_type": "execute_result"
    },
    {
     "data": {
      "image/png": "[encoded data removed]",
      "text/plain": [
       "<Figure size 432x288 with 1 Axes>"
      ]
     },
     "metadata": {
      "needs_background": "light"
     },
     "output_type": "display_data"
    }
   ],
   "source": [
    "l = [\"Fin\",\"Beer\"]\n",
    "erk.plot_ef2(200,er[l],cov.loc[l,l])"
   ]
  }
 ],
 "metadata": {
  "kernelspec": {
   "display_name": "Python 3",
   "language": "python",
   "name": "python3"
  },
  "language_info": {
   "codemirror_mode": {
    "name": "ipython",
    "version": 3
   },
   "file_extension": ".py",
   "mimetype": "text/x-python",
   "name": "python",
   "nbconvert_exporter": "python",
   "pygments_lexer": "ipython3",
   "version": "3.8.3"
  }
 },
 "nbformat": 4,
 "nbformat_minor": 4
}
