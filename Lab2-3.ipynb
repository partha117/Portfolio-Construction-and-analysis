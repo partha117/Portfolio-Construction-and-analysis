{
 "cells": [
  {
   "cell_type": "markdown",
   "metadata": {},
   "source": [
    "# N Asset Efficient Frontier"
   ]
  },
  {
   "cell_type": "code",
   "execution_count": 1,
   "metadata": {},
   "outputs": [],
   "source": [
    "import edhec_risk_kit as erk\n",
    "import numpy as np\n",
    "import pandas as pd"
   ]
  },
  {
   "cell_type": "code",
   "execution_count": 2,
   "metadata": {},
   "outputs": [],
   "source": [
    "ind = erk.get_ind_return()\n",
    "er = erk.annualize_return(ind[\"1996\":\"2000\"],12)\n",
    "cov = ind[\"1996\":\"2000\"].cov()"
   ]
  },
  {
   "cell_type": "code",
   "execution_count": 3,
   "metadata": {},
   "outputs": [
    {
     "data": {
      "text/plain": [
       "<matplotlib.axes._subplots.AxesSubplot at 0x7fa9c0402520>"
      ]
     },
     "execution_count": 3,
     "metadata": {},
     "output_type": "execute_result"
    },
    {
     "data": {
      "image/png": "[encoded data removed]",
      "text/plain": [
       "<Figure size 432x288 with 1 Axes>"
      ]
     },
     "metadata": {
      "needs_background": "light"
     },
     "output_type": "display_data"
    }
   ],
   "source": [
    "l = [\"Games\",\"Fin\"]\n",
    "erk.plot_ef2(20,er[l],cov.loc[l,l])"
   ]
  },
  {
   "cell_type": "code",
   "execution_count": 8,
   "metadata": {},
   "outputs": [],
   "source": [
    "\n",
    "def minimize_volatility(target_return, er, cov):\n",
    "    \"\"\"\n",
    "    target return -> w\n",
    "    \"\"\"\n",
    "    n = er.shape[0]\n",
    "    init_guess = np.repeat(1/n,n)\n",
    "    bounds = ((0.0,1.0),)*n\n",
    "    return_is_target = {\n",
    "        'type':'eq',\n",
    "        'args': (er,),\n",
    "        'fun': lambda weights, er : target_return - erk.portfolio_return(weights,er)\n",
    "    }\n",
    "    weights_sum_to_one = {\n",
    "        'type':'eq',\n",
    "        'fun': lambda weights: np.sum(weights) - 1\n",
    "    }\n",
    "    results = minimize(erk.portfolio_vol,init_guess,\n",
    "                       args=(cov,),\n",
    "                       method='SLSQP',\n",
    "                       options={'disp':False},\n",
    "                       constraints=(return_is_target,weights_sum_to_one),\n",
    "                       bounds=bounds\n",
    "                      )\n",
    "    return results.x\n",
    "    \n",
    "        "
   ]
  },
  {
   "cell_type": "code",
   "execution_count": 4,
   "metadata": {},
   "outputs": [
    {
     "data": {
      "text/plain": [
       "0.056163669406706564"
      ]
     },
     "execution_count": 4,
     "metadata": {},
     "output_type": "execute_result"
    }
   ],
   "source": [
    "w15 = erk.minimize_volatility(0.15,er[l],cov.loc[l,l])\n",
    "vol15 = erk.portfolio_vol(w15,cov.loc[l,l])\n",
    "vol15"
   ]
  },
  {
   "cell_type": "code",
   "execution_count": 11,
   "metadata": {},
   "outputs": [],
   "source": [
    "def optimal_weights(n_points,er,cov):\n",
    "    \"\"\"\n",
    "    list of weights to run optimizer on to minimize volatility\n",
    "    \"\"\"\n",
    "    target_rs = np.linspace(er.min(), er.max(), n_points)\n",
    "    weights = [ erk.minimize_volatility(target_return, er, cov) for target_return in target_rs]\n",
    "    return weights\n",
    "\n",
    "\n",
    "def plot_efN(n_points, er, cov):\n",
    "    \"\"\"\n",
    "    Plot 2 asset efficient frontier\n",
    "    \"\"\"\n",
    "\n",
    "    weights = optimal_weights(n_points,er,cov)\n",
    "    rets = [erk.portfolio_return(w,er) for w in weights]\n",
    "    vols = [erk.portfolio_vol(w,cov) for w in weights]\n",
    "    ef = pd.DataFrame({\"Returns\":rets,\"Volatility\":vols})\n",
    "    return ef.plot.line(x=\"Volatility\",y=\"Returns\",style=\".-\")"
   ]
  },
  {
   "cell_type": "code",
   "execution_count": 5,
   "metadata": {},
   "outputs": [
    {
     "data": {
      "text/plain": [
       "Index(['Food', 'Beer', 'Smoke', 'Games', 'Books', 'Hshld', 'Clths', 'Hlth',\n",
       "       'Chems', 'Txtls', 'Cnstr', 'Steel', 'FabPr', 'ElcEq', 'Autos', 'Carry',\n",
       "       'Mines', 'Coal', 'Oil', 'Util', 'Telcm', 'Servs', 'BusEq', 'Paper',\n",
       "       'Trans', 'Whlsl', 'Rtail', 'Meals', 'Fin', 'Other'],\n",
       "      dtype='object')"
      ]
     },
     "execution_count": 5,
     "metadata": {},
     "output_type": "execute_result"
    }
   ],
   "source": [
    "ind.columns"
   ]
  },
  {
   "cell_type": "code",
   "execution_count": 7,
   "metadata": {},
   "outputs": [
    {
     "data": {
      "text/plain": [
       "<matplotlib.axes._subplots.AxesSubplot at 0x7f7a4d3386d0>"
      ]
     },
     "execution_count": 7,
     "metadata": {},
     "output_type": "execute_result"
    },
    {
     "data": {
      "image/png": "[encoded data removed]",
      "text/plain": [
       "<Figure size 432x288 with 1 Axes>"
      ]
     },
     "metadata": {
      "needs_background": "light"
     },
     "output_type": "display_data"
    }
   ],
   "source": [
    "l = [\"Smoke\",\"Fin\",\"Games\",\"Coal\",\"Meals\"]\n",
    "erk.plot_efN(125,er[l],cov.loc[l,l])"
   ]
  },
  {
   "cell_type": "code",
   "execution_count": 15,
   "metadata": {},
   "outputs": [
    {
     "name": "stdout",
     "output_type": "stream",
     "text": [
      "[ 0. 60.  0. 40.  0.] 3\n"
     ]
    }
   ],
   "source": [
    "print(np.round(erk.minimize_volatility(0.30,er[l],cov.loc[l,l])*100),3)"
   ]
  }
 ],
 "metadata": {
  "kernelspec": {
   "display_name": "Python 3",
   "language": "python",
   "name": "python3"
  },
  "language_info": {
   "codemirror_mode": {
    "name": "ipython",
    "version": 3
   },
   "file_extension": ".py",
   "mimetype": "text/x-python",
   "name": "python",
   "nbconvert_exporter": "python",
   "pygments_lexer": "ipython3",
   "version": "3.8.3"
  }
 },
 "nbformat": 4,
 "nbformat_minor": 4
}
